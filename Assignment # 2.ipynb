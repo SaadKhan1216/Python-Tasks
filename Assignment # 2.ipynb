{
 "cells": [
  {
   "cell_type": "code",
   "execution_count": 1,
   "metadata": {},
   "outputs": [
    {
     "name": "stdout",
     "output_type": "stream",
     "text": [
      "Grade A+\n"
     ]
    }
   ],
   "source": [
    "Eng = 80\n",
    "Isl = 80\n",
    "Maths = 90\n",
    "TotalMarks = 300\n",
    "perc = (Eng + Isl + Maths)*100/300\n",
    "if perc >=  80:\n",
    "    print('Grade A+')\n",
    "elif perc >= 70:\n",
    "    print('Grade A')\n",
    "elif perc >= 60:\n",
    "    print('Grade B')\n",
    "elif perc >= 50:\n",
    "    print('Grade C')\n",
    "elif perc >= 40:\n",
    "    print('Grade D')\n",
    "else:\n",
    "    print('Grade F')"
   ]
  }
 ],
 "metadata": {
  "kernelspec": {
   "display_name": "Python 3",
   "language": "python",
   "name": "python3"
  },
  "language_info": {
   "codemirror_mode": {
    "name": "ipython",
    "version": 3
   },
   "file_extension": ".py",
   "mimetype": "text/x-python",
   "name": "python",
   "nbconvert_exporter": "python",
   "pygments_lexer": "ipython3",
   "version": "3.8.5"
  }
 },
 "nbformat": 4,
 "nbformat_minor": 4
}
