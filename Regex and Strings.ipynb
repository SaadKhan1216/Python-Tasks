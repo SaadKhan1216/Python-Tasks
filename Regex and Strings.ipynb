{
 "cells": [
  {
   "cell_type": "code",
   "execution_count": 7,
   "metadata": {},
   "outputs": [
    {
     "name": "stdout",
     "output_type": "stream",
     "text": [
      "Dell Display Manager's (DDM) Easy Arrange feature lets you quickly tile and view your applications side by side across one or more connected screens for multitasking efficiency. And with the improved DDM, you'll get even more preset layouts. The auto-restore feature remembers where you left off, so applications will go back to where you left them, even after you've unplugged.\n"
     ]
    }
   ],
   "source": [
    "#a..\n",
    "print('Dell Display Manager\\'s (DDM) Easy Arrange feature lets you quickly tile and view your applications side by side across one or more connected screens for multitasking efficiency. And with the improved DDM, you\\'ll get even more preset layouts. The auto-restore feature remembers where you left off, so applications will go back to where you left them, even after you\\'ve unplugged.')"
   ]
  },
  {
   "cell_type": "code",
   "execution_count": 22,
   "metadata": {},
   "outputs": [
    {
     "name": "stdout",
     "output_type": "stream",
     "text": [
      "Appearance for the word DDM is: 2\n",
      "[' with the improved ']\n",
      "Position for auto is: 246\n",
      "auto-restore feature remembers where you left off, so applications will go back to where you left them, even after you’ve unplugged.\n"
     ]
    }
   ],
   "source": [
    "#Question 3\n",
    "import re\n",
    "inputString = 'Dell Display Manager’s (DDM) Easy Arrange feature lets you quickly tile and view your applications side by side across one or more connected screens for multitasking efficiency. And with the improved DDM, you’ll get even more preset layouts. The auto-restore feature remembers where you left off, so applications will go back to where you left them, even after you’ve unplugged.'\n",
    "\n",
    "#a...\n",
    "a = inputString.count('DDM')\n",
    "print('Appearance for the word DDM is:',a)\n",
    "\n",
    "#b...\n",
    "b = re.findall(r'And(.*?)DDM',inputString)\n",
    "print(b)\n",
    "#c...\n",
    "c = inputString.find('auto')\n",
    "print('Position for auto is:',c)\n",
    "\n",
    "#d...\n",
    "d = inputString[c:]\n",
    "print(d)"
   ]
  }
 ],
 "metadata": {
  "kernelspec": {
   "display_name": "Python 3",
   "language": "python",
   "name": "python3"
  },
  "language_info": {
   "codemirror_mode": {
    "name": "ipython",
    "version": 3
   },
   "file_extension": ".py",
   "mimetype": "text/x-python",
   "name": "python",
   "nbconvert_exporter": "python",
   "pygments_lexer": "ipython3",
   "version": "3.8.5"
  }
 },
 "nbformat": 4,
 "nbformat_minor": 4
}
