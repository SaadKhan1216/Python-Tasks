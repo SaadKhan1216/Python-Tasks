{
 "cells": [
  {
   "cell_type": "code",
   "execution_count": 2,
   "metadata": {},
   "outputs": [
    {
     "name": "stdout",
     "output_type": "stream",
     "text": [
      "Successfully Transaction\n",
      "Enter amount to recharge: 22\n",
      "Success\n",
      "33022\n"
     ]
    }
   ],
   "source": [
    "def pay(amount):\n",
    "    file = open('customers.txt','r')\n",
    "    data = file.read().split()\n",
    "    if amount <= int(data[-1]):\n",
    "        print(\"Successfully Transaction\")\n",
    "        file = open('customers.txt','w+')\n",
    "        data[-1] = str(int(data[-1])-amount)\n",
    "        data = [x+' ' if x != data[-1] else x for x in data]\n",
    "        file.writelines(data)\n",
    "    else: print(\"You don't have sufficient balance in your wallet.\")\n",
    "    file.close()\n",
    "\n",
    "def checkBalance():\n",
    "    file = open('customers.txt','r')\n",
    "    print(file.read().split()[-1])\n",
    "    file.close()\n",
    "\n",
    "def createFile():\n",
    "    file = open('customers.txt','w+')\n",
    "    file.read()\n",
    "    lst = ['1 Shahid%Afridi 03022601500 Karachi abc@xyz.com 35000']\n",
    "    file.writelines(lst)\n",
    "    file.close()\n",
    "\n",
    "def recharge():\n",
    "    amount = int(input(\"Enter amount to recharge: \"))\n",
    "    file = open('customers.txt','r')\n",
    "    data = file.read().split()\n",
    "    file1 = open('customers.txt','w+')\n",
    "    data[-1] = str(int(data[-1])+amount)\n",
    "    data = [x+' ' if x != data[-1] else x for x in data]\n",
    "    file1.writelines(data)\n",
    "    file.close()\n",
    "    file1.close()\n",
    "    print('Success')\n",
    "\n",
    "def main():\n",
    "    createFile()\n",
    "    pay(2000)\n",
    "    recharge()\n",
    "    checkBalance()\n",
    "\n",
    "if __name__ == '__main__':\n",
    "    main()"
   ]
  },
  {
   "cell_type": "code",
   "execution_count": 7,
   "metadata": {},
   "outputs": [
    {
     "data": {
      "text/html": [
       "<div>\n",
       "<style scoped>\n",
       "    .dataframe tbody tr th:only-of-type {\n",
       "        vertical-align: middle;\n",
       "    }\n",
       "\n",
       "    .dataframe tbody tr th {\n",
       "        vertical-align: top;\n",
       "    }\n",
       "\n",
       "    .dataframe thead th {\n",
       "        text-align: right;\n",
       "    }\n",
       "</style>\n",
       "<table border=\"1\" class=\"dataframe\">\n",
       "  <thead>\n",
       "    <tr style=\"text-align: right;\">\n",
       "      <th></th>\n",
       "      <th>NAME</th>\n",
       "      <th>NUMBER</th>\n",
       "      <th>EMAIL</th>\n",
       "      <th>SALARY</th>\n",
       "    </tr>\n",
       "  </thead>\n",
       "  <tbody>\n",
       "    <tr>\n",
       "      <th>1</th>\n",
       "      <td>SHAHID AFRIDI</td>\n",
       "      <td>3022601500</td>\n",
       "      <td>abc@xyz.com</td>\n",
       "      <td>35000</td>\n",
       "    </tr>\n",
       "  </tbody>\n",
       "</table>\n",
       "</div>"
      ],
      "text/plain": [
       "            NAME      NUMBER        EMAIL  SALARY\n",
       "1  SHAHID AFRIDI  3022601500  abc@xyz.com   35000"
      ]
     },
     "execution_count": 7,
     "metadata": {},
     "output_type": "execute_result"
    }
   ],
   "source": [
    "import pandas as pd\n",
    "data = pd.DataFrame({'NAME': ['SHAHID AFRIDI'],'NUMBER':[3022601500],'EMAIL':['abc@xyz.com'],'SALARY':[35000]},\n",
    "                   index = [1])\n",
    "data"
   ]
  },
  {
   "cell_type": "code",
   "execution_count": 10,
   "metadata": {},
   "outputs": [],
   "source": [
    "#b Saving dataframe from part a to a csv file\n",
    "data.to_csv('data.csv')"
   ]
  },
  {
   "cell_type": "code",
   "execution_count": 13,
   "metadata": {},
   "outputs": [
    {
     "data": {
      "text/plain": [
       "'SHAHID AFRIDI'"
      ]
     },
     "execution_count": 13,
     "metadata": {},
     "output_type": "execute_result"
    }
   ],
   "source": [
    "#c printing customer's name\n",
    "data['NAME'].values[0]"
   ]
  },
  {
   "cell_type": "code",
   "execution_count": 21,
   "metadata": {},
   "outputs": [
    {
     "name": "stdout",
     "output_type": "stream",
     "text": [
      "   Unnamed: 0  Unnamed: 0.1           NAME        NUMBER        EMAIL  \\\n",
      "0         0.0           1.0  SHAHID AFRIDI  3.022602e+09  abc@xyz.com   \n",
      "1         1.0           NaN            NaN           NaN          NaN   \n",
      "2         4.0           NaN            NaN           NaN          NaN   \n",
      "3         NaN           NaN            NaN           NaN          NaN   \n",
      "4         NaN           NaN            NaN           NaN          NaN   \n",
      "\n",
      "    SALARY        Name     CITY  \n",
      "0  35000.0  babar azam      NaN  \n",
      "1      NaN  babar azam      NaN  \n",
      "2      NaN  babar azam      NaN  \n",
      "3      NaN         NaN  KARACHI  \n",
      "4      NaN         NaN  KARACHI  \n"
     ]
    }
   ],
   "source": [
    "import pandas as pd\n",
    "df = pd.read_csv(\"data.csv\")\n",
    "df.loc[4, 'CITY'] = 'KARACHI'\n",
    "df.to_csv(\"data.csv\", index=False) \n",
    "print(df)"
   ]
  },
  {
   "cell_type": "code",
   "execution_count": 22,
   "metadata": {},
   "outputs": [
    {
     "name": "stdout",
     "output_type": "stream",
     "text": [
      "Unnamed: 0               1\n",
      "Unnamed: 0.1           NaN\n",
      "NAME                   NaN\n",
      "NUMBER                 NaN\n",
      "EMAIL                  NaN\n",
      "SALARY                 NaN\n",
      "Name            babar azam\n",
      "CITY                   NaN\n",
      "Name: 1, dtype: object\n"
     ]
    }
   ],
   "source": [
    "df = pd.read_csv(\"data.csv\")\n",
    "df = df.iloc[1] \n",
    "print(df)"
   ]
  }
 ],
 "metadata": {
  "kernelspec": {
   "display_name": "Python 3",
   "language": "python",
   "name": "python3"
  },
  "language_info": {
   "codemirror_mode": {
    "name": "ipython",
    "version": 3
   },
   "file_extension": ".py",
   "mimetype": "text/x-python",
   "name": "python",
   "nbconvert_exporter": "python",
   "pygments_lexer": "ipython3",
   "version": "3.8.5"
  }
 },
 "nbformat": 4,
 "nbformat_minor": 4
}
