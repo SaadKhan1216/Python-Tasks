{
 "cells": [
  {
   "cell_type": "code",
   "execution_count": 1,
   "metadata": {},
   "outputs": [],
   "source": [
    "# employee class code in Python\n",
    "# class definition\n",
    "class Employee:\n",
    "    __id=0\n",
    "    __name=\"\"\n",
    "    __gender=\"\"\n",
    "    __city=\"\"\n",
    "    __salary=0\n",
    "\t\n",
    "\t# function to set data \n",
    "    def setData(self,id,name,gender,city,salary):\n",
    "        self.__id=id\n",
    "        self.__name = name\n",
    "        self.__gender = gender\n",
    "        self.__city = city\n",
    "        self.__salary = salary\n",
    "\t\n",
    "\t# function to get/print data\n",
    "    def showData(self):\n",
    "        print(\"Id\\t\\t:\",self.__id)\n",
    "        print(\"Name\\t:\", self.__name)\n",
    "        print(\"Gender\\t:\", self.__gender)\n",
    "        print(\"City\\t:\", self.__city)\n",
    "        print(\"Salary\\t:\", self.__salary)\n",
    "\n",
    "# main function definition\n",
    "def main():\n",
    "    #Employee Object\n",
    "    emp=Employee()\n",
    "    emp.setData(1,'pankaj','male','delhi',55000)\n",
    "    emp.showData()\n"
   ]
  },
  {
   "cell_type": "code",
   "execution_count": 2,
   "metadata": {},
   "outputs": [
    {
     "name": "stdout",
     "output_type": "stream",
     "text": [
      "Enter the number of leaves:5\n",
      "4\n"
     ]
    }
   ],
   "source": [
    "class Employee:\n",
    "    def __init__(self,id,name,designation,qualification,salary,taken_leaves,allowed_leaves):\n",
    "        self.id=id\n",
    "        self.name=name\n",
    "        self.designation=designation\n",
    "        self.qualification=qualification\n",
    "        self.salary=salary\n",
    "        self.taken_leaves=taken_leaves\n",
    "        self.allowed_leaves=allowed_leaves\n",
    "    def applyLeave(self,num_of_leaves):\n",
    "        self.num_of_leaves=num_of_leaves\n",
    "        if self.num_of_leaves>self.allowed_leaves:\n",
    "            print('Sorry you cannot take leaves.')\n",
    "        elif self.num_of_leaves<=self.allowed_leaves:\n",
    "            self.leaves=self.allowed_leaves-self.num_of_leaves\n",
    "            self.taken_leaves+=self.leaves\n",
    "            print(self.taken_leaves)\n",
    "        \n",
    "obj=Employee(12,'Ali','Manager','MBA',100000,4,5)\n",
    "obj.applyLeave(int(input('Enter the number of leaves:')))"
   ]
  }
 ],
 "metadata": {
  "kernelspec": {
   "display_name": "Python 3",
   "language": "python",
   "name": "python3"
  },
  "language_info": {
   "codemirror_mode": {
    "name": "ipython",
    "version": 3
   },
   "file_extension": ".py",
   "mimetype": "text/x-python",
   "name": "python",
   "nbconvert_exporter": "python",
   "pygments_lexer": "ipython3",
   "version": "3.8.5"
  }
 },
 "nbformat": 4,
 "nbformat_minor": 4
}
