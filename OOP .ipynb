{
 "cells": [
  {
   "cell_type": "code",
   "execution_count": 3,
   "metadata": {},
   "outputs": [
    {
     "name": "stdout",
     "output_type": "stream",
     "text": [
      "Razer is 6 years old\n",
      "Razer says Woof Woof\n"
     ]
    }
   ],
   "source": [
    "class Dog:\n",
    "    species = 'mammal'\n",
    "    def __init__(self, name, age): \n",
    "        self.name = name\n",
    "        self.age = age\n",
    "    def description(self):\n",
    "        return \"{} is {} years old\".format(self.name, self.age)\n",
    "    def speak(self, sound):\n",
    "        return \"{} says {}\".format(self.name, sound)\n",
    "razer = Dog(\"Razer\", 6)\n",
    "print(razer.description())\n",
    "print(razer.speak(\"Woof Woof\"))"
   ]
  },
  {
   "cell_type": "code",
   "execution_count": 5,
   "metadata": {},
   "outputs": [
    {
     "name": "stdout",
     "output_type": "stream",
     "text": [
      "Thunder is 9 years old\n",
      "Thunder runs slowly\n",
      "Spinter is 12 years old\n",
      "Spinter runs fast\n"
     ]
    }
   ],
   "source": [
    "class Dog: \n",
    "    species = 'mammal'\n",
    "    def __init__(self, name, age): \n",
    "        self.name = name\n",
    "        self.age = age\n",
    "    def description(self):\n",
    "        return \"{} is {} years old\".format(self.name, self.age)\n",
    "    def speak(self, sound):\n",
    "        return \"{} says {}\".format(self.name, sound)\n",
    "class RussellTerrier(Dog):\n",
    "    def run(self, speed):\n",
    "        return \"{} runs {}\".format(self.name, speed)\n",
    "class Bulldog(Dog):\n",
    "    def run(self, speed):\n",
    "        return\"{} runs {}\".format(self.name, speed)\n",
    "                                   \n",
    "thunder = Bulldog(\"Thunder\", 9)\n",
    "print(thunder.description()) \n",
    "print(thunder.run(\"slowly\"))\n",
    "spinter = Bulldog(\"Spinter\", 12)\n",
    "print(spinter.description())\n",
    "print(spinter.run(\"fast\"))\n",
    "roger = RussellTerrier(\"Roger\", 5)"
   ]
  },
  {
   "cell_type": "code",
   "execution_count": 7,
   "metadata": {},
   "outputs": [
    {
     "name": "stdout",
     "output_type": "stream",
     "text": [
      "Thunder is 9 years old\n",
      "Thunder runs slowly\n",
      "True\n",
      "True\n",
      "True\n",
      "Thanks for understanding the concept of OOPs\n"
     ]
    }
   ],
   "source": [
    "class Dog: \n",
    "    species = 'mammal'\n",
    "    def __init__(self, name, age): \n",
    "        self.name = name\n",
    "        self.age = age# instance method\n",
    "    def description(self):\n",
    "        return \"{} is {} years old\".format(self.name, self.age)\n",
    "    def speak(self, sound):\n",
    "        return \"{} says {}\".format(self.name, sound)\n",
    "class RussellTerrier(Dog):\n",
    "    def run(self, speed):\n",
    "        return \"{} runs {}\".format(self.name, speed)\n",
    "class Bulldog(Dog):\n",
    "    def run(self, speed):\n",
    "        return \"{} runs {}\".format(self.name, speed)\n",
    "thunder = Bulldog(\"Thunder\", 9)\n",
    "print(thunder.description())\n",
    "print(thunder.run(\"slowly\"))\n",
    "print(isinstance(thunder, Dog))\n",
    "thunder_kid = Dog(\"ThunderKid\", 2)\n",
    "print(isinstance(thunder, Dog)) \n",
    "Kate = RussellTerrier(\"Kate\", 4)\n",
    "print(isinstance(Kate, Dog))\n",
    "print(\"Thanks for understanding the concept of OOPs\")"
   ]
  }
 ],
 "metadata": {
  "kernelspec": {
   "display_name": "Python 3",
   "language": "python",
   "name": "python3"
  },
  "language_info": {
   "codemirror_mode": {
    "name": "ipython",
    "version": 3
   },
   "file_extension": ".py",
   "mimetype": "text/x-python",
   "name": "python",
   "nbconvert_exporter": "python",
   "pygments_lexer": "ipython3",
   "version": "3.8.5"
  }
 },
 "nbformat": 4,
 "nbformat_minor": 4
}
